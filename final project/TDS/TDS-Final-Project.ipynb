{
 "cells": [
  {
   "cell_type": "markdown",
   "id": "d1167931",
   "metadata": {},
   "source": [
    "<font size =\"5\">Imports<font>"
   ]
  },
  {
   "cell_type": "code",
   "execution_count": 1,
   "id": "5d8ecfd0",
   "metadata": {},
   "outputs": [],
   "source": [
    "#data processing\n",
    "import numpy as np # linear algebra\n",
    "import pandas as pd # Data pre-processing\n",
    "import utils\n",
    "from efficient_apriori import apriori\n",
    "import warnings\n",
    "warnings.filterwarnings(\"ignore\")"
   ]
  },
  {
   "cell_type": "markdown",
   "id": "0d447fdb",
   "metadata": {},
   "source": [
    "<font size =\"4\">Configuration<font>"
   ]
  },
  {
   "cell_type": "code",
   "execution_count": 2,
   "id": "f40015f2",
   "metadata": {},
   "outputs": [],
   "source": [
    "support = 0.009\n",
    "confidence = 0.6\n",
    "lift = 1"
   ]
  },
  {
   "cell_type": "markdown",
   "id": "5f04c7f4",
   "metadata": {},
   "source": [
    "<font size =\"4\">Loading the CSV dataset - Groceries_dataset<font>"
   ]
  },
  {
   "cell_type": "code",
   "execution_count": 3,
   "id": "539f39bd",
   "metadata": {},
   "outputs": [],
   "source": [
    "dataset_path = \"datasets/Groceries_dataset.csv\"\n",
    "df = pd.read_csv(dataset_path)\n",
    "df['itemDescription'] = df['itemDescription'].str.strip()\n",
    "df['itemDescription'] = df['itemDescription'].str.lower()"
   ]
  },
  {
   "cell_type": "markdown",
   "id": "55e87428",
   "metadata": {},
   "source": [
    "<font size =\"4\">Display database<font>"
   ]
  },
  {
   "cell_type": "code",
   "execution_count": 4,
   "id": "7818d05b",
   "metadata": {},
   "outputs": [
    {
     "data": {
      "text/html": [
       "<div>\n",
       "<style scoped>\n",
       "    .dataframe tbody tr th:only-of-type {\n",
       "        vertical-align: middle;\n",
       "    }\n",
       "\n",
       "    .dataframe tbody tr th {\n",
       "        vertical-align: top;\n",
       "    }\n",
       "\n",
       "    .dataframe thead th {\n",
       "        text-align: right;\n",
       "    }\n",
       "</style>\n",
       "<table border=\"1\" class=\"dataframe\">\n",
       "  <thead>\n",
       "    <tr style=\"text-align: right;\">\n",
       "      <th></th>\n",
       "      <th>Member_number</th>\n",
       "      <th>Date</th>\n",
       "      <th>itemDescription</th>\n",
       "    </tr>\n",
       "  </thead>\n",
       "  <tbody>\n",
       "    <tr>\n",
       "      <th>0</th>\n",
       "      <td>1808</td>\n",
       "      <td>21-07-2015</td>\n",
       "      <td>tropical fruit</td>\n",
       "    </tr>\n",
       "    <tr>\n",
       "      <th>1</th>\n",
       "      <td>2552</td>\n",
       "      <td>05-01-2015</td>\n",
       "      <td>whole milk</td>\n",
       "    </tr>\n",
       "    <tr>\n",
       "      <th>2</th>\n",
       "      <td>2300</td>\n",
       "      <td>19-09-2015</td>\n",
       "      <td>pip fruit</td>\n",
       "    </tr>\n",
       "    <tr>\n",
       "      <th>3</th>\n",
       "      <td>1187</td>\n",
       "      <td>12-12-2015</td>\n",
       "      <td>other vegetables</td>\n",
       "    </tr>\n",
       "    <tr>\n",
       "      <th>4</th>\n",
       "      <td>3037</td>\n",
       "      <td>01-02-2015</td>\n",
       "      <td>whole milk</td>\n",
       "    </tr>\n",
       "    <tr>\n",
       "      <th>...</th>\n",
       "      <td>...</td>\n",
       "      <td>...</td>\n",
       "      <td>...</td>\n",
       "    </tr>\n",
       "    <tr>\n",
       "      <th>38760</th>\n",
       "      <td>4471</td>\n",
       "      <td>08-10-2014</td>\n",
       "      <td>sliced cheese</td>\n",
       "    </tr>\n",
       "    <tr>\n",
       "      <th>38761</th>\n",
       "      <td>2022</td>\n",
       "      <td>23-02-2014</td>\n",
       "      <td>candy</td>\n",
       "    </tr>\n",
       "    <tr>\n",
       "      <th>38762</th>\n",
       "      <td>1097</td>\n",
       "      <td>16-04-2014</td>\n",
       "      <td>cake bar</td>\n",
       "    </tr>\n",
       "    <tr>\n",
       "      <th>38763</th>\n",
       "      <td>1510</td>\n",
       "      <td>03-12-2014</td>\n",
       "      <td>fruit/vegetable juice</td>\n",
       "    </tr>\n",
       "    <tr>\n",
       "      <th>38764</th>\n",
       "      <td>1521</td>\n",
       "      <td>26-12-2014</td>\n",
       "      <td>cat food</td>\n",
       "    </tr>\n",
       "  </tbody>\n",
       "</table>\n",
       "<p>38765 rows × 3 columns</p>\n",
       "</div>"
      ],
      "text/plain": [
       "       Member_number        Date        itemDescription\n",
       "0               1808  21-07-2015         tropical fruit\n",
       "1               2552  05-01-2015             whole milk\n",
       "2               2300  19-09-2015              pip fruit\n",
       "3               1187  12-12-2015       other vegetables\n",
       "4               3037  01-02-2015             whole milk\n",
       "...              ...         ...                    ...\n",
       "38760           4471  08-10-2014          sliced cheese\n",
       "38761           2022  23-02-2014                  candy\n",
       "38762           1097  16-04-2014               cake bar\n",
       "38763           1510  03-12-2014  fruit/vegetable juice\n",
       "38764           1521  26-12-2014               cat food\n",
       "\n",
       "[38765 rows x 3 columns]"
      ]
     },
     "execution_count": 4,
     "metadata": {},
     "output_type": "execute_result"
    }
   ],
   "source": [
    "df"
   ]
  },
  {
   "cell_type": "markdown",
   "id": "8c553b8a",
   "metadata": {},
   "source": [
    "drop duplicates:"
   ]
  },
  {
   "cell_type": "code",
   "execution_count": 5,
   "id": "dad1fdf2",
   "metadata": {},
   "outputs": [
    {
     "data": {
      "text/plain": [
       "38006"
      ]
     },
     "execution_count": 5,
     "metadata": {},
     "output_type": "execute_result"
    }
   ],
   "source": [
    "df = df.drop_duplicates()\n",
    "df = df.dropna()\n",
    "len(df)"
   ]
  },
  {
   "cell_type": "code",
   "execution_count": 6,
   "id": "efa1cc30",
   "metadata": {},
   "outputs": [
    {
     "name": "stdout",
     "output_type": "stream",
     "text": [
      "\u001b[1mdataset information:\u001b[0m\n",
      "\n",
      "<class 'pandas.core.frame.DataFrame'>\n",
      "Int64Index: 38006 entries, 0 to 38764\n",
      "Data columns (total 3 columns):\n",
      " #   Column           Non-Null Count  Dtype \n",
      "---  ------           --------------  ----- \n",
      " 0   Member_number    38006 non-null  int64 \n",
      " 1   Date             38006 non-null  object\n",
      " 2   itemDescription  38006 non-null  object\n",
      "dtypes: int64(1), object(2)\n",
      "memory usage: 1.2+ MB\n",
      "None\n",
      "\n",
      "\n",
      "\u001b[1mVerify if there are any null values:\u001b[0m\n",
      "\n",
      "Member_number      0\n",
      "Date               0\n",
      "itemDescription    0\n",
      "dtype: int64\n"
     ]
    }
   ],
   "source": [
    "utils.display_data(df)"
   ]
  },
  {
   "cell_type": "markdown",
   "id": "caa5278e",
   "metadata": {},
   "source": [
    "<font size=\"4\">top 10 sold items:</font>"
   ]
  },
  {
   "cell_type": "code",
   "execution_count": 7,
   "id": "b297230d",
   "metadata": {},
   "outputs": [
    {
     "data": {
      "image/png": "[encoded data removed]",
      "text/plain": [
       "<Figure size 1080x504 with 1 Axes>"
      ]
     },
     "metadata": {
      "needs_background": "light"
     },
     "output_type": "display_data"
    }
   ],
   "source": [
    "utils.top_ten_sold_items(df)"
   ]
  },
  {
   "cell_type": "markdown",
   "id": "a84e137e",
   "metadata": {},
   "source": [
    "<font size=\"4\">Using Apriori on a DataFrame:</font>"
   ]
  },
  {
   "cell_type": "code",
   "execution_count": 8,
   "id": "13292e8b",
   "metadata": {},
   "outputs": [],
   "source": [
    "cust_level = df[[\"Member_number\", \"itemDescription\"]].sort_values(by = \"Member_number\", ascending = False) ## Selecting only required variables for modelling\n",
    "cust_level['itemDescription'] = cust_level['itemDescription'].str.strip() # Removing white spaces if any\n",
    "transactions = [a[1]['itemDescription'].tolist() for a in list(cust_level.groupby(['Member_number']))] ## Combing all the items in list format for each cutomer"
   ]
  },
  {
   "cell_type": "code",
   "execution_count": 9,
   "id": "43490546",
   "metadata": {
    "scrolled": true
   },
   "outputs": [],
   "source": [
    "# Rules mining process:\n",
    "itemsets, rules = apriori(transactions, min_support=support, min_confidence=confidence,\n",
    "                                          output_transaction_ids=False)"
   ]
  },
  {
   "cell_type": "code",
   "execution_count": 10,
   "id": "ad21bc3e",
   "metadata": {},
   "outputs": [],
   "source": [
    "attrs = [a for a in dir(rules[0]) if not a.startswith(\"_\")]\n",
    "rules_rec = []\n",
    "for r in rules:\n",
    "    rdict={}\n",
    "    for a in attrs:\n",
    "        rdict[a]=getattr(r,a)\n",
    "        rdict[\"rule\"]=str(r).split(\"} (\")[0]+\"}\"\n",
    "        rdict[\"len_l\"]=len(r.lhs)\n",
    "        rdict[\"len_r\"]=len(r.rhs)\n",
    "    rules_rec.append(rdict)"
   ]
  },
  {
   "cell_type": "code",
   "execution_count": 11,
   "id": "608e6d6b",
   "metadata": {},
   "outputs": [],
   "source": [
    "rules_df = pd.DataFrame(rules_rec)\n",
    "rules_df.set_index('rule',inplace=True)\n",
    "rules_df = rules_df[['len_l', 'len_r','count_lhs','count_rhs','support','confidence','lift','rpf','conviction','lhs','rhs']]"
   ]
  },
  {
   "cell_type": "markdown",
   "id": "0b8d93bc",
   "metadata": {},
   "source": [
    "The rules without making the division are:"
   ]
  },
  {
   "cell_type": "code",
   "execution_count": 12,
   "id": "c3cd80ac",
   "metadata": {},
   "outputs": [
    {
     "data": {
      "text/html": [
       "<div>\n",
       "<style scoped>\n",
       "    .dataframe tbody tr th:only-of-type {\n",
       "        vertical-align: middle;\n",
       "    }\n",
       "\n",
       "    .dataframe tbody tr th {\n",
       "        vertical-align: top;\n",
       "    }\n",
       "\n",
       "    .dataframe thead th {\n",
       "        text-align: right;\n",
       "    }\n",
       "</style>\n",
       "<table border=\"1\" class=\"dataframe\">\n",
       "  <thead>\n",
       "    <tr style=\"text-align: right;\">\n",
       "      <th></th>\n",
       "      <th>len_l</th>\n",
       "      <th>len_r</th>\n",
       "      <th>count_lhs</th>\n",
       "      <th>count_rhs</th>\n",
       "      <th>support</th>\n",
       "      <th>confidence</th>\n",
       "      <th>lift</th>\n",
       "      <th>rpf</th>\n",
       "      <th>conviction</th>\n",
       "      <th>lhs</th>\n",
       "      <th>rhs</th>\n",
       "    </tr>\n",
       "    <tr>\n",
       "      <th>rule</th>\n",
       "      <th></th>\n",
       "      <th></th>\n",
       "      <th></th>\n",
       "      <th></th>\n",
       "      <th></th>\n",
       "      <th></th>\n",
       "      <th></th>\n",
       "      <th></th>\n",
       "      <th></th>\n",
       "      <th></th>\n",
       "      <th></th>\n",
       "    </tr>\n",
       "  </thead>\n",
       "  <tbody>\n",
       "    <tr>\n",
       "      <th>{liquor} -&gt; {whole milk}</th>\n",
       "      <td>1</td>\n",
       "      <td>1</td>\n",
       "      <td>103</td>\n",
       "      <td>1786</td>\n",
       "      <td>0.016675</td>\n",
       "      <td>0.631068</td>\n",
       "      <td>1.377325</td>\n",
       "      <td>0.010523</td>\n",
       "      <td>1.468607</td>\n",
       "      <td>(liquor,)</td>\n",
       "      <td>(whole milk,)</td>\n",
       "    </tr>\n",
       "    <tr>\n",
       "      <th>{mustard} -&gt; {whole milk}</th>\n",
       "      <td>1</td>\n",
       "      <td>1</td>\n",
       "      <td>91</td>\n",
       "      <td>1786</td>\n",
       "      <td>0.014110</td>\n",
       "      <td>0.604396</td>\n",
       "      <td>1.319112</td>\n",
       "      <td>0.008528</td>\n",
       "      <td>1.369591</td>\n",
       "      <td>(mustard,)</td>\n",
       "      <td>(whole milk,)</td>\n",
       "    </tr>\n",
       "    <tr>\n",
       "      <th>{zwieback} -&gt; {whole milk}</th>\n",
       "      <td>1</td>\n",
       "      <td>1</td>\n",
       "      <td>60</td>\n",
       "      <td>1786</td>\n",
       "      <td>0.009236</td>\n",
       "      <td>0.600000</td>\n",
       "      <td>1.309518</td>\n",
       "      <td>0.005541</td>\n",
       "      <td>1.354541</td>\n",
       "      <td>(zwieback,)</td>\n",
       "      <td>(whole milk,)</td>\n",
       "    </tr>\n",
       "    <tr>\n",
       "      <th>{beef, bottled beer} -&gt; {whole milk}</th>\n",
       "      <td>2</td>\n",
       "      <td>1</td>\n",
       "      <td>81</td>\n",
       "      <td>1786</td>\n",
       "      <td>0.013084</td>\n",
       "      <td>0.629630</td>\n",
       "      <td>1.374186</td>\n",
       "      <td>0.008238</td>\n",
       "      <td>1.462904</td>\n",
       "      <td>(beef, bottled beer)</td>\n",
       "      <td>(whole milk,)</td>\n",
       "    </tr>\n",
       "    <tr>\n",
       "      <th>{beef, canned beer} -&gt; {whole milk}</th>\n",
       "      <td>2</td>\n",
       "      <td>1</td>\n",
       "      <td>73</td>\n",
       "      <td>1786</td>\n",
       "      <td>0.012314</td>\n",
       "      <td>0.657534</td>\n",
       "      <td>1.435089</td>\n",
       "      <td>0.008097</td>\n",
       "      <td>1.582104</td>\n",
       "      <td>(beef, canned beer)</td>\n",
       "      <td>(whole milk,)</td>\n",
       "    </tr>\n",
       "    <tr>\n",
       "      <th>...</th>\n",
       "      <td>...</td>\n",
       "      <td>...</td>\n",
       "      <td>...</td>\n",
       "      <td>...</td>\n",
       "      <td>...</td>\n",
       "      <td>...</td>\n",
       "      <td>...</td>\n",
       "      <td>...</td>\n",
       "      <td>...</td>\n",
       "      <td>...</td>\n",
       "      <td>...</td>\n",
       "    </tr>\n",
       "    <tr>\n",
       "      <th>{other vegetables, rolls/buns, shopping bags, yogurt} -&gt; {whole milk}</th>\n",
       "      <td>4</td>\n",
       "      <td>1</td>\n",
       "      <td>55</td>\n",
       "      <td>1786</td>\n",
       "      <td>0.010005</td>\n",
       "      <td>0.709091</td>\n",
       "      <td>1.547613</td>\n",
       "      <td>0.007095</td>\n",
       "      <td>1.862494</td>\n",
       "      <td>(other vegetables, rolls/buns, shopping bags, ...</td>\n",
       "      <td>(whole milk,)</td>\n",
       "    </tr>\n",
       "    <tr>\n",
       "      <th>{other vegetables, rolls/buns, soda, yogurt} -&gt; {whole milk}</th>\n",
       "      <td>4</td>\n",
       "      <td>1</td>\n",
       "      <td>78</td>\n",
       "      <td>1786</td>\n",
       "      <td>0.013597</td>\n",
       "      <td>0.679487</td>\n",
       "      <td>1.483002</td>\n",
       "      <td>0.009239</td>\n",
       "      <td>1.690467</td>\n",
       "      <td>(other vegetables, rolls/buns, soda, yogurt)</td>\n",
       "      <td>(whole milk,)</td>\n",
       "    </tr>\n",
       "    <tr>\n",
       "      <th>{other vegetables, rolls/buns, tropical fruit, yogurt} -&gt; {whole milk}</th>\n",
       "      <td>4</td>\n",
       "      <td>1</td>\n",
       "      <td>58</td>\n",
       "      <td>1786</td>\n",
       "      <td>0.009749</td>\n",
       "      <td>0.655172</td>\n",
       "      <td>1.429934</td>\n",
       "      <td>0.006387</td>\n",
       "      <td>1.571267</td>\n",
       "      <td>(other vegetables, rolls/buns, tropical fruit,...</td>\n",
       "      <td>(whole milk,)</td>\n",
       "    </tr>\n",
       "    <tr>\n",
       "      <th>{other vegetables, root vegetables, soda, yogurt} -&gt; {whole milk}</th>\n",
       "      <td>4</td>\n",
       "      <td>1</td>\n",
       "      <td>52</td>\n",
       "      <td>1786</td>\n",
       "      <td>0.009236</td>\n",
       "      <td>0.692308</td>\n",
       "      <td>1.510983</td>\n",
       "      <td>0.006394</td>\n",
       "      <td>1.760903</td>\n",
       "      <td>(other vegetables, root vegetables, soda, yogurt)</td>\n",
       "      <td>(whole milk,)</td>\n",
       "    </tr>\n",
       "    <tr>\n",
       "      <th>{rolls/buns, sausage, soda, yogurt} -&gt; {whole milk}</th>\n",
       "      <td>4</td>\n",
       "      <td>1</td>\n",
       "      <td>60</td>\n",
       "      <td>1786</td>\n",
       "      <td>0.009492</td>\n",
       "      <td>0.616667</td>\n",
       "      <td>1.345894</td>\n",
       "      <td>0.005853</td>\n",
       "      <td>1.413434</td>\n",
       "      <td>(rolls/buns, sausage, soda, yogurt)</td>\n",
       "      <td>(whole milk,)</td>\n",
       "    </tr>\n",
       "  </tbody>\n",
       "</table>\n",
       "<p>371 rows × 11 columns</p>\n",
       "</div>"
      ],
      "text/plain": [
       "                                                    len_l  len_r  count_lhs  \\\n",
       "rule                                                                          \n",
       "{liquor} -> {whole milk}                                1      1        103   \n",
       "{mustard} -> {whole milk}                               1      1         91   \n",
       "{zwieback} -> {whole milk}                              1      1         60   \n",
       "{beef, bottled beer} -> {whole milk}                    2      1         81   \n",
       "{beef, canned beer} -> {whole milk}                     2      1         73   \n",
       "...                                                   ...    ...        ...   \n",
       "{other vegetables, rolls/buns, shopping bags, y...      4      1         55   \n",
       "{other vegetables, rolls/buns, soda, yogurt} ->...      4      1         78   \n",
       "{other vegetables, rolls/buns, tropical fruit, ...      4      1         58   \n",
       "{other vegetables, root vegetables, soda, yogur...      4      1         52   \n",
       "{rolls/buns, sausage, soda, yogurt} -> {whole m...      4      1         60   \n",
       "\n",
       "                                                    count_rhs   support  \\\n",
       "rule                                                                      \n",
       "{liquor} -> {whole milk}                                 1786  0.016675   \n",
       "{mustard} -> {whole milk}                                1786  0.014110   \n",
       "{zwieback} -> {whole milk}                               1786  0.009236   \n",
       "{beef, bottled beer} -> {whole milk}                     1786  0.013084   \n",
       "{beef, canned beer} -> {whole milk}                      1786  0.012314   \n",
       "...                                                       ...       ...   \n",
       "{other vegetables, rolls/buns, shopping bags, y...       1786  0.010005   \n",
       "{other vegetables, rolls/buns, soda, yogurt} ->...       1786  0.013597   \n",
       "{other vegetables, rolls/buns, tropical fruit, ...       1786  0.009749   \n",
       "{other vegetables, root vegetables, soda, yogur...       1786  0.009236   \n",
       "{rolls/buns, sausage, soda, yogurt} -> {whole m...       1786  0.009492   \n",
       "\n",
       "                                                    confidence      lift  \\\n",
       "rule                                                                       \n",
       "{liquor} -> {whole milk}                              0.631068  1.377325   \n",
       "{mustard} -> {whole milk}                             0.604396  1.319112   \n",
       "{zwieback} -> {whole milk}                            0.600000  1.309518   \n",
       "{beef, bottled beer} -> {whole milk}                  0.629630  1.374186   \n",
       "{beef, canned beer} -> {whole milk}                   0.657534  1.435089   \n",
       "...                                                        ...       ...   \n",
       "{other vegetables, rolls/buns, shopping bags, y...    0.709091  1.547613   \n",
       "{other vegetables, rolls/buns, soda, yogurt} ->...    0.679487  1.483002   \n",
       "{other vegetables, rolls/buns, tropical fruit, ...    0.655172  1.429934   \n",
       "{other vegetables, root vegetables, soda, yogur...    0.692308  1.510983   \n",
       "{rolls/buns, sausage, soda, yogurt} -> {whole m...    0.616667  1.345894   \n",
       "\n",
       "                                                         rpf  conviction  \\\n",
       "rule                                                                       \n",
       "{liquor} -> {whole milk}                            0.010523    1.468607   \n",
       "{mustard} -> {whole milk}                           0.008528    1.369591   \n",
       "{zwieback} -> {whole milk}                          0.005541    1.354541   \n",
       "{beef, bottled beer} -> {whole milk}                0.008238    1.462904   \n",
       "{beef, canned beer} -> {whole milk}                 0.008097    1.582104   \n",
       "...                                                      ...         ...   \n",
       "{other vegetables, rolls/buns, shopping bags, y...  0.007095    1.862494   \n",
       "{other vegetables, rolls/buns, soda, yogurt} ->...  0.009239    1.690467   \n",
       "{other vegetables, rolls/buns, tropical fruit, ...  0.006387    1.571267   \n",
       "{other vegetables, root vegetables, soda, yogur...  0.006394    1.760903   \n",
       "{rolls/buns, sausage, soda, yogurt} -> {whole m...  0.005853    1.413434   \n",
       "\n",
       "                                                                                                  lhs  \\\n",
       "rule                                                                                                    \n",
       "{liquor} -> {whole milk}                                                                    (liquor,)   \n",
       "{mustard} -> {whole milk}                                                                  (mustard,)   \n",
       "{zwieback} -> {whole milk}                                                                (zwieback,)   \n",
       "{beef, bottled beer} -> {whole milk}                                             (beef, bottled beer)   \n",
       "{beef, canned beer} -> {whole milk}                                               (beef, canned beer)   \n",
       "...                                                                                               ...   \n",
       "{other vegetables, rolls/buns, shopping bags, y...  (other vegetables, rolls/buns, shopping bags, ...   \n",
       "{other vegetables, rolls/buns, soda, yogurt} ->...       (other vegetables, rolls/buns, soda, yogurt)   \n",
       "{other vegetables, rolls/buns, tropical fruit, ...  (other vegetables, rolls/buns, tropical fruit,...   \n",
       "{other vegetables, root vegetables, soda, yogur...  (other vegetables, root vegetables, soda, yogurt)   \n",
       "{rolls/buns, sausage, soda, yogurt} -> {whole m...                (rolls/buns, sausage, soda, yogurt)   \n",
       "\n",
       "                                                              rhs  \n",
       "rule                                                               \n",
       "{liquor} -> {whole milk}                            (whole milk,)  \n",
       "{mustard} -> {whole milk}                           (whole milk,)  \n",
       "{zwieback} -> {whole milk}                          (whole milk,)  \n",
       "{beef, bottled beer} -> {whole milk}                (whole milk,)  \n",
       "{beef, canned beer} -> {whole milk}                 (whole milk,)  \n",
       "...                                                           ...  \n",
       "{other vegetables, rolls/buns, shopping bags, y...  (whole milk,)  \n",
       "{other vegetables, rolls/buns, soda, yogurt} ->...  (whole milk,)  \n",
       "{other vegetables, rolls/buns, tropical fruit, ...  (whole milk,)  \n",
       "{other vegetables, root vegetables, soda, yogur...  (whole milk,)  \n",
       "{rolls/buns, sausage, soda, yogurt} -> {whole m...  (whole milk,)  \n",
       "\n",
       "[371 rows x 11 columns]"
      ]
     },
     "execution_count": 12,
     "metadata": {},
     "output_type": "execute_result"
    }
   ],
   "source": [
    "rules_df"
   ]
  },
  {
   "cell_type": "markdown",
   "id": "05545ec8",
   "metadata": {},
   "source": [
    "Split the data:"
   ]
  },
  {
   "cell_type": "code",
   "execution_count": 13,
   "id": "6cd53fe1",
   "metadata": {},
   "outputs": [],
   "source": [
    "train, test = utils.train_test(df)"
   ]
  },
  {
   "cell_type": "code",
   "execution_count": 14,
   "id": "8898dee4",
   "metadata": {},
   "outputs": [
    {
     "data": {
      "text/html": [
       "<div>\n",
       "<style scoped>\n",
       "    .dataframe tbody tr th:only-of-type {\n",
       "        vertical-align: middle;\n",
       "    }\n",
       "\n",
       "    .dataframe tbody tr th {\n",
       "        vertical-align: top;\n",
       "    }\n",
       "\n",
       "    .dataframe thead th {\n",
       "        text-align: right;\n",
       "    }\n",
       "</style>\n",
       "<table border=\"1\" class=\"dataframe\">\n",
       "  <thead>\n",
       "    <tr style=\"text-align: right;\">\n",
       "      <th></th>\n",
       "      <th>Member_number</th>\n",
       "      <th>Date</th>\n",
       "      <th>itemDescription</th>\n",
       "    </tr>\n",
       "  </thead>\n",
       "  <tbody>\n",
       "    <tr>\n",
       "      <th>25800</th>\n",
       "      <td>4851</td>\n",
       "      <td>08-11-2014</td>\n",
       "      <td>grapes</td>\n",
       "    </tr>\n",
       "    <tr>\n",
       "      <th>1071</th>\n",
       "      <td>4434</td>\n",
       "      <td>21-09-2015</td>\n",
       "      <td>beef</td>\n",
       "    </tr>\n",
       "    <tr>\n",
       "      <th>30380</th>\n",
       "      <td>3584</td>\n",
       "      <td>29-05-2014</td>\n",
       "      <td>soft cheese</td>\n",
       "    </tr>\n",
       "    <tr>\n",
       "      <th>12316</th>\n",
       "      <td>3141</td>\n",
       "      <td>04-01-2014</td>\n",
       "      <td>frozen vegetables</td>\n",
       "    </tr>\n",
       "    <tr>\n",
       "      <th>4348</th>\n",
       "      <td>3363</td>\n",
       "      <td>18-05-2015</td>\n",
       "      <td>canned beer</td>\n",
       "    </tr>\n",
       "    <tr>\n",
       "      <th>...</th>\n",
       "      <td>...</td>\n",
       "      <td>...</td>\n",
       "      <td>...</td>\n",
       "    </tr>\n",
       "    <tr>\n",
       "      <th>3109</th>\n",
       "      <td>3614</td>\n",
       "      <td>28-04-2015</td>\n",
       "      <td>tropical fruit</td>\n",
       "    </tr>\n",
       "    <tr>\n",
       "      <th>10153</th>\n",
       "      <td>1061</td>\n",
       "      <td>17-03-2014</td>\n",
       "      <td>soda</td>\n",
       "    </tr>\n",
       "    <tr>\n",
       "      <th>10246</th>\n",
       "      <td>2626</td>\n",
       "      <td>09-08-2014</td>\n",
       "      <td>whole milk</td>\n",
       "    </tr>\n",
       "    <tr>\n",
       "      <th>27605</th>\n",
       "      <td>4759</td>\n",
       "      <td>24-01-2014</td>\n",
       "      <td>root vegetables</td>\n",
       "    </tr>\n",
       "    <tr>\n",
       "      <th>25077</th>\n",
       "      <td>4614</td>\n",
       "      <td>25-12-2014</td>\n",
       "      <td>sugar</td>\n",
       "    </tr>\n",
       "  </tbody>\n",
       "</table>\n",
       "<p>30404 rows × 3 columns</p>\n",
       "</div>"
      ],
      "text/plain": [
       "       Member_number        Date    itemDescription\n",
       "25800           4851  08-11-2014             grapes\n",
       "1071            4434  21-09-2015               beef\n",
       "30380           3584  29-05-2014        soft cheese\n",
       "12316           3141  04-01-2014  frozen vegetables\n",
       "4348            3363  18-05-2015        canned beer\n",
       "...              ...         ...                ...\n",
       "3109            3614  28-04-2015     tropical fruit\n",
       "10153           1061  17-03-2014               soda\n",
       "10246           2626  09-08-2014         whole milk\n",
       "27605           4759  24-01-2014    root vegetables\n",
       "25077           4614  25-12-2014              sugar\n",
       "\n",
       "[30404 rows x 3 columns]"
      ]
     },
     "execution_count": 14,
     "metadata": {},
     "output_type": "execute_result"
    }
   ],
   "source": [
    "train"
   ]
  },
  {
   "cell_type": "code",
   "execution_count": 15,
   "id": "8562daaf",
   "metadata": {},
   "outputs": [
    {
     "data": {
      "text/html": [
       "<div>\n",
       "<style scoped>\n",
       "    .dataframe tbody tr th:only-of-type {\n",
       "        vertical-align: middle;\n",
       "    }\n",
       "\n",
       "    .dataframe tbody tr th {\n",
       "        vertical-align: top;\n",
       "    }\n",
       "\n",
       "    .dataframe thead th {\n",
       "        text-align: right;\n",
       "    }\n",
       "</style>\n",
       "<table border=\"1\" class=\"dataframe\">\n",
       "  <thead>\n",
       "    <tr style=\"text-align: right;\">\n",
       "      <th></th>\n",
       "      <th>Member_number</th>\n",
       "      <th>Date</th>\n",
       "      <th>itemDescription</th>\n",
       "    </tr>\n",
       "  </thead>\n",
       "  <tbody>\n",
       "    <tr>\n",
       "      <th>19023</th>\n",
       "      <td>1567</td>\n",
       "      <td>11-04-2015</td>\n",
       "      <td>bottled water</td>\n",
       "    </tr>\n",
       "    <tr>\n",
       "      <th>12985</th>\n",
       "      <td>3589</td>\n",
       "      <td>04-03-2014</td>\n",
       "      <td>other vegetables</td>\n",
       "    </tr>\n",
       "    <tr>\n",
       "      <th>14320</th>\n",
       "      <td>2760</td>\n",
       "      <td>19-04-2014</td>\n",
       "      <td>long life bakery product</td>\n",
       "    </tr>\n",
       "    <tr>\n",
       "      <th>1996</th>\n",
       "      <td>1458</td>\n",
       "      <td>24-02-2015</td>\n",
       "      <td>ice cream</td>\n",
       "    </tr>\n",
       "    <tr>\n",
       "      <th>20516</th>\n",
       "      <td>4873</td>\n",
       "      <td>27-04-2015</td>\n",
       "      <td>hard cheese</td>\n",
       "    </tr>\n",
       "    <tr>\n",
       "      <th>...</th>\n",
       "      <td>...</td>\n",
       "      <td>...</td>\n",
       "      <td>...</td>\n",
       "    </tr>\n",
       "    <tr>\n",
       "      <th>22776</th>\n",
       "      <td>1339</td>\n",
       "      <td>05-05-2015</td>\n",
       "      <td>whole milk</td>\n",
       "    </tr>\n",
       "    <tr>\n",
       "      <th>8733</th>\n",
       "      <td>2832</td>\n",
       "      <td>29-07-2014</td>\n",
       "      <td>sausage</td>\n",
       "    </tr>\n",
       "    <tr>\n",
       "      <th>4600</th>\n",
       "      <td>4744</td>\n",
       "      <td>28-10-2015</td>\n",
       "      <td>citrus fruit</td>\n",
       "    </tr>\n",
       "    <tr>\n",
       "      <th>38571</th>\n",
       "      <td>2060</td>\n",
       "      <td>25-05-2014</td>\n",
       "      <td>brown bread</td>\n",
       "    </tr>\n",
       "    <tr>\n",
       "      <th>22360</th>\n",
       "      <td>4592</td>\n",
       "      <td>22-06-2015</td>\n",
       "      <td>chocolate</td>\n",
       "    </tr>\n",
       "  </tbody>\n",
       "</table>\n",
       "<p>7602 rows × 3 columns</p>\n",
       "</div>"
      ],
      "text/plain": [
       "       Member_number        Date           itemDescription\n",
       "19023           1567  11-04-2015             bottled water\n",
       "12985           3589  04-03-2014          other vegetables\n",
       "14320           2760  19-04-2014  long life bakery product\n",
       "1996            1458  24-02-2015                 ice cream\n",
       "20516           4873  27-04-2015               hard cheese\n",
       "...              ...         ...                       ...\n",
       "22776           1339  05-05-2015                whole milk\n",
       "8733            2832  29-07-2014                   sausage\n",
       "4600            4744  28-10-2015              citrus fruit\n",
       "38571           2060  25-05-2014               brown bread\n",
       "22360           4592  22-06-2015                 chocolate\n",
       "\n",
       "[7602 rows x 3 columns]"
      ]
     },
     "execution_count": 15,
     "metadata": {},
     "output_type": "execute_result"
    }
   ],
   "source": [
    "test"
   ]
  },
  {
   "cell_type": "code",
   "execution_count": 16,
   "id": "3900858a",
   "metadata": {},
   "outputs": [],
   "source": [
    "# Save original data\n",
    "original_data = df.copy()\n",
    "products = df['itemDescription'].unique()\n",
    "# One-hot representation of products purchased\n",
    "data = utils.one_hot(df,'itemDescription')\n",
    "# If a customer bought multiple items in one day, it will be considered as one record\n",
    "records = utils.build_records(data,'Member_number','Date' ,products)\n",
    "# Convert all of our numbers to either a 1 or a 0 (negative numbers are converted to zero, positive numbers are converted to 1)\n",
    "records = utils.convert_numbers_to_one_or_zero(records)"
   ]
  },
  {
   "cell_type": "code",
   "execution_count": 17,
   "id": "7591a055",
   "metadata": {},
   "outputs": [
    {
     "data": {
      "text/plain": [
       "73"
      ]
     },
     "execution_count": 17,
     "metadata": {},
     "output_type": "execute_result"
    }
   ],
   "source": [
    "# Find frequent itemsets with Apriori algorithm\n",
    "frequent_itemsets, rules = utils.frequent_itemsets_and_association_rules(records,support)\n",
    "len(frequent_itemsets)"
   ]
  },
  {
   "cell_type": "code",
   "execution_count": 18,
   "id": "34d54bfd",
   "metadata": {},
   "outputs": [
    {
     "data": {
      "text/plain": [
       "12"
      ]
     },
     "execution_count": 18,
     "metadata": {},
     "output_type": "execute_result"
    }
   ],
   "source": [
    "len(rules)"
   ]
  },
  {
   "cell_type": "code",
   "execution_count": 19,
   "id": "726d1d98",
   "metadata": {},
   "outputs": [],
   "source": [
    "# Save original data\n",
    "original_data = train.copy()\n",
    "products = train['itemDescription'].unique()\n",
    "# One-hot representation of products purchased\n",
    "data = utils.one_hot(train,'itemDescription')\n",
    "# If a customer bought multiple items in one day, it will be considered as one record\n",
    "records = utils.build_records(data,'Member_number','Date' ,products)\n",
    "# Convert all of our numbers to either a 1 or a 0 (negative numbers are converted to zero, positive numbers are converted to 1)\n",
    "records = utils.convert_numbers_to_one_or_zero(records)"
   ]
  },
  {
   "cell_type": "code",
   "execution_count": 20,
   "id": "cc2b2f73",
   "metadata": {},
   "outputs": [
    {
     "data": {
      "text/plain": [
       "62"
      ]
     },
     "execution_count": 20,
     "metadata": {},
     "output_type": "execute_result"
    }
   ],
   "source": [
    "frequent_itemsets_train, rules_train = utils.frequent_itemsets_and_association_rules(records,support)\n",
    "len(frequent_itemsets_train)"
   ]
  },
  {
   "cell_type": "code",
   "execution_count": 21,
   "id": "8b974901",
   "metadata": {},
   "outputs": [
    {
     "data": {
      "text/plain": [
       "12"
      ]
     },
     "execution_count": 21,
     "metadata": {},
     "output_type": "execute_result"
    }
   ],
   "source": [
    "len(rules)"
   ]
  },
  {
   "cell_type": "code",
   "execution_count": 22,
   "id": "4a323ff9",
   "metadata": {},
   "outputs": [],
   "source": [
    "# Apply the association rules to the test set\n",
    "rules_test = pd.DataFrame(columns=rules_train.columns)\n",
    "for index, row in test.iterrows():\n",
    "    for rule_index, rule_row in rules_train.iterrows():\n",
    "        if set(rule_row['antecedents']).issubset(row) and not set(rule_row['consequents']).issubset(row):\n",
    "            rules_test = rules_test.append(rule_row, ignore_index=True)"
   ]
  },
  {
   "cell_type": "code",
   "execution_count": 23,
   "id": "8c3aec8a",
   "metadata": {},
   "outputs": [
    {
     "data": {
      "text/plain": [
       "1718"
      ]
     },
     "execution_count": 23,
     "metadata": {},
     "output_type": "execute_result"
    }
   ],
   "source": [
    "len(rules_test)"
   ]
  },
  {
   "cell_type": "code",
   "execution_count": 24,
   "id": "bdc3328a",
   "metadata": {},
   "outputs": [],
   "source": [
    "# Calculate the precision, recall, and F1 score for the test set\n",
    "precision = len(rules_test) / len(rules)\n",
    "recall = len(rules_test) / len(test)\n",
    "f1_score = 2 * precision * recall / (precision + recall)"
   ]
  },
  {
   "cell_type": "code",
   "execution_count": 25,
   "id": "d7aeae81",
   "metadata": {},
   "outputs": [
    {
     "name": "stdout",
     "output_type": "stream",
     "text": [
      "Apriori algorithm on entire dataset:\n",
      "Number of rules: 12\n",
      "Apriori algorithm on training set:\n",
      "Number of rules: 4\n",
      "Performance on test set:\n",
      "Precision: 143.16666666666666\n",
      "Recall: 0.22599315969481715\n",
      "F1 score: 0.4512739690044654\n"
     ]
    }
   ],
   "source": [
    "# Print the results\n",
    "print('Apriori algorithm on entire dataset:')\n",
    "print('Number of rules:', len(rules))\n",
    "print('Apriori algorithm on training set:')\n",
    "print('Number of rules:', len(rules_train))\n",
    "print('Performance on test set:')\n",
    "print('Precision:', precision)\n",
    "print('Recall:', recall)\n",
    "print('F1 score:', f1_score)"
   ]
  },
  {
   "cell_type": "code",
   "execution_count": 26,
   "id": "e3bbb42c",
   "metadata": {},
   "outputs": [
    {
     "data": {
      "image/png": "[encoded data removed]",
      "text/plain": [
       "<Figure size 432x288 with 1 Axes>"
      ]
     },
     "metadata": {},
     "output_type": "display_data"
    }
   ],
   "source": [
    "# Plot the results\n",
    "labels = ['Apriori on entire dataset', 'Apriori on training set', 'Performance on test set']\n",
    "values = [len(rules), len(rules_train), f1_score]\n",
    "utils.plot_results(labels, values)"
   ]
  }
 ],
 "metadata": {
  "kernelspec": {
   "display_name": "Python 3",
   "language": "python",
   "name": "python3"
  },
  "language_info": {
   "codemirror_mode": {
    "name": "ipython",
    "version": 3
   },
   "file_extension": ".py",
   "mimetype": "text/x-python",
   "name": "python",
   "nbconvert_exporter": "python",
   "pygments_lexer": "ipython3",
   "version": "3.8.8"
  }
 },
 "nbformat": 4,
 "nbformat_minor": 5
}
